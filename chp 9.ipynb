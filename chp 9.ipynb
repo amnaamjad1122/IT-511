{
 "cells": [
  {
   "cell_type": "code",
   "execution_count": 1,
   "id": "fdc0c640",
   "metadata": {},
   "outputs": [
    {
     "name": "stdout",
     "output_type": "stream",
     "text": [
      "2\n"
     ]
    }
   ],
   "source": [
    "x = 2\n",
    "print(x)"
   ]
  },
  {
   "cell_type": "code",
   "execution_count": 3,
   "id": "a3525225",
   "metadata": {},
   "outputs": [
    {
     "name": "stdout",
     "output_type": "stream",
     "text": [
      "{'chuck': 1, 'fred': 42, 'jan': 100}\n"
     ]
    },
    {
     "data": {
      "text/plain": [
       "{'jan': 100, 'chuck': 1, 'fred': 42}"
      ]
     },
     "execution_count": 3,
     "metadata": {},
     "output_type": "execute_result"
    }
   ],
   "source": [
    "jjj = { 'chuck' : 1 , 'fred' : 42, 'jan': 100}\n",
    "print(jjj)\n",
    "{'jan': 100, 'chuck': 1, 'fred': 42}"
   ]
  },
  {
   "cell_type": "code",
   "execution_count": 4,
   "id": "aada4966",
   "metadata": {},
   "outputs": [
    {
     "name": "stdout",
     "output_type": "stream",
     "text": [
      "{}\n"
     ]
    }
   ],
   "source": [
    "ooo = { }\n",
    "print(ooo)"
   ]
  },
  {
   "cell_type": "code",
   "execution_count": null,
   "id": "08ba3bce",
   "metadata": {},
   "outputs": [],
   "source": []
  }
 ],
 "metadata": {
  "kernelspec": {
   "display_name": "Python 3 (ipykernel)",
   "language": "python",
   "name": "python3"
  },
  "language_info": {
   "codemirror_mode": {
    "name": "ipython",
    "version": 3
   },
   "file_extension": ".py",
   "mimetype": "text/x-python",
   "name": "python",
   "nbconvert_exporter": "python",
   "pygments_lexer": "ipython3",
   "version": "3.11.4"
  }
 },
 "nbformat": 4,
 "nbformat_minor": 5
}
