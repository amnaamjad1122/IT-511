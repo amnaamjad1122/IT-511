{
 "cells": [
  {
   "cell_type": "code",
   "execution_count": 2,
   "id": "84c895b7",
   "metadata": {},
   "outputs": [
    {
     "name": "stdout",
     "output_type": "stream",
     "text": [
      "Meow! I'm Luna! Meow\n"
     ]
    }
   ],
   "source": [
    "class Cat:\n",
    "    name = \"\"\n",
    "    def speak(self):\n",
    "        print(\"Meow! I'm {}! Meow\".format(self.name))\n",
    "myLuna = Cat()\n",
    "myLuna.name = \"Luna\"\n",
    "myLuna.speak()"
   ]
  },
  {
   "cell_type": "code",
   "execution_count": 3,
   "id": "20646458",
   "metadata": {},
   "outputs": [
    {
     "data": {
      "text/plain": [
       "24"
      ]
     },
     "execution_count": 3,
     "metadata": {},
     "output_type": "execute_result"
    }
   ],
   "source": [
    "class Cat:\n",
    "    years = 0\n",
    "    def age (self):\n",
    "        return self.years * 12\n",
    "myLuna = Cat()\n",
    "myLuna.years = 2\n",
    "myLuna.age()"
   ]
  },
  {
   "cell_type": "code",
   "execution_count": 4,
   "id": "e43763ce",
   "metadata": {},
   "outputs": [
    {
     "name": "stdout",
     "output_type": "stream",
     "text": [
      "<__main__.Apple object at 0x000001A7A2D776D0>\n"
     ]
    }
   ],
   "source": [
    "class Apple:\n",
    "    def __init__(self, color, flavor):\n",
    "        self.color = color\n",
    "        self.flavor = flavor\n",
    "\n",
    "jonagold = Apple(\"red\", \"sweet\")\n",
    "print(jonagold)"
   ]
  },
  {
   "cell_type": "code",
   "execution_count": 5,
   "id": "2f55f623",
   "metadata": {},
   "outputs": [
    {
     "name": "stdout",
     "output_type": "stream",
     "text": [
      "Help on class Apple in module __main__:\n",
      "\n",
      "class Apple(builtins.object)\n",
      " |  Apple(color, flavor)\n",
      " |  \n",
      " |  Methods defined here:\n",
      " |  \n",
      " |  __init__(self, color, flavor)\n",
      " |      Initialize self.  See help(type(self)) for accurate signature.\n",
      " |  \n",
      " |  ----------------------------------------------------------------------\n",
      " |  Data descriptors defined here:\n",
      " |  \n",
      " |  __dict__\n",
      " |      dictionary for instance variables (if defined)\n",
      " |  \n",
      " |  __weakref__\n",
      " |      list of weak references to the object (if defined)\n",
      "\n"
     ]
    }
   ],
   "source": [
    "help(Apple)"
   ]
  },
  {
   "cell_type": "code",
   "execution_count": 6,
   "id": "c4b356e0",
   "metadata": {},
   "outputs": [
    {
     "name": "stdout",
     "output_type": "stream",
     "text": [
      "hi, my name is Ali\n",
      "None\n"
     ]
    }
   ],
   "source": [
    "class Person:\n",
    "    def __init__(self, name):\n",
    "        self.name = name\n",
    "    def greeting(self):\n",
    "        # Should return \"hi, my name is \" followed by the name of the Person.\n",
    "        return print(\"hi, my name is {}\".format(self.name))\n",
    "\n",
    "# Create a new instance with a name of your choice\n",
    "some_person = Person(\"Ali\") \n",
    "# Call the greeting method\n",
    "print(some_person.greeting())"
   ]
  },
  {
   "cell_type": "code",
   "execution_count": null,
   "id": "2d49e63b",
   "metadata": {},
   "outputs": [],
   "source": []
  }
 ],
 "metadata": {
  "kernelspec": {
   "display_name": "Python 3 (ipykernel)",
   "language": "python",
   "name": "python3"
  },
  "language_info": {
   "codemirror_mode": {
    "name": "ipython",
    "version": 3
   },
   "file_extension": ".py",
   "mimetype": "text/x-python",
   "name": "python",
   "nbconvert_exporter": "python",
   "pygments_lexer": "ipython3",
   "version": "3.11.4"
  }
 },
 "nbformat": 4,
 "nbformat_minor": 5
}
